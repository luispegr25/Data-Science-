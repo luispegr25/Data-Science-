{
 "cells": [
  {
   "cell_type": "code",
   "execution_count": 10,
   "metadata": {},
   "outputs": [],
   "source": [
    "#chunk 1\n",
    "import requests\n",
    "from bs4 import BeautifulSoup\n",
    "import csv\n",
    "import pandas as pd\n",
    "import time "
   ]
  },
  {
   "cell_type": "code",
   "execution_count": 12,
   "metadata": {},
   "outputs": [
    {
     "name": "stdout",
     "output_type": "stream",
     "text": [
      "Conexión exitosa.\n"
     ]
    }
   ],
   "source": [
    "#Chunk 2\n",
    "\n",
    "URL = \"https://mapainmueble.com/apartamentos-en-alquiler-zona-14/\"\n",
    "\n",
    "time.sleep(5) \n",
    "response = requests.get(URL)\n",
    "\n",
    "if response.status_code == 200:\n",
    "    print(\"Conexión exitosa.\")\n",
    "else:\n",
    "    print(f\"Error al conectar con la página: status code {response.status_code}\")\n",
    "\n",
    "\n",
    "\n"
   ]
  },
  {
   "cell_type": "code",
   "execution_count": 15,
   "metadata": {},
   "outputs": [],
   "source": [
    "# Chunk 3\n",
    "url_base = \"https://mapainmueble.com/apartamentos-en-alquiler-zona-14/\"\n",
    "navegador_simulado = {\"User-Agent\": \"Mozilla/5.0\"}\n",
    "listado_apartamentos = []  \n"
   ]
  },
  {
   "cell_type": "code",
   "execution_count": null,
   "metadata": {},
   "outputs": [
    {
     "name": "stdout",
     "output_type": "stream",
     "text": [
      "Extrayendo datos de la página 1...\n",
      "Extrayendo datos de la página 2...\n",
      "Extrayendo datos de la página 3...\n",
      "Extrayendo datos de la página 4...\n",
      "Extrayendo datos de la página 5...\n"
     ]
    }
   ],
   "source": [
    "# Chunk 4\n",
    "for numero_pagina in range(1, 6):\n",
    "    print(f\"Extrayendo datos de la página {numero_pagina}...\")\n",
    "    url_completa = f\"{url_base}page/{numero_pagina}/\" if numero_pagina > 1 else url_base\n",
    "    respuesta = requests.get(url_completa, headers=navegador_simulado)\n",
    "\n",
    "    if respuesta.ok:\n",
    "        analizador = BeautifulSoup(respuesta.text, \"html.parser\")\n",
    "    else:\n",
    "        print(f\"No se pudo acceder a la página {numero_pagina}: {respuesta.status_code}\")\n",
    "        continue \n"
   ]
  },
  {
   "cell_type": "code",
   "execution_count": null,
   "metadata": {},
   "outputs": [],
   "source": [
    "# Chunk 5\n",
    "\n",
    "        apartamentos = analizador.find_all(\"div\", class_=\"property_listing property_card_default\")\n",
    "        for apartamento in apartamentos:\n",
    "            nombre = apartamento.find(\"a\").text.strip() if apartamento.find(\"a\") else 'Sin Título'\n",
    "            \n",
    "            costo = apartamento.find(\"div\", class_=\"listing_unit_price_wrapper\").text.strip().split(\"\\n\")[0] if apartamento.find(\"div\", class_=\"listing_unit_price_wrapper\") else 'Sin Precio'\n",
    "            \n",
    "            lugar = \"Zona 14, Guatemala\"\n",
    "            \n",
    "            cuartos = apartamento.find(\"span\", class_=\"inforoom\").text.strip() if apartamento.find(\"span\", class_=\"inforoom\") else 'Info no disponible'\n",
    "            \n",
    "            sanitarios = apartamento.find(\"span\", class_=\"infobath\").text.strip() if apartamento.find(\"span\", class_=\"infobath\") else 'Info no disponible'\n",
    "            \n",
    "            superficie = apartamento.find(\"span\", class_=\"infosize\").text.strip().split(\" \")[0] if apartamento.find(\"span\", class_=\"infosize\") else 'Info no disponible'\n",
    "            \n",
    "            enlace = apartamento.find(\"a\")[\"href\"] if apartamento.find(\"a\") else 'Sin URL'\n",
    "            \n",
    "            agente = apartamento.find(\"div\", class_=\"property_agent_wrapper\").find(\"a\").text.strip() if apartamento.find(\"div\", class_=\"property_agent_wrapper\") and apartamento.find(\"div\", class_=\"property_agent_wrapper\").find(\"a\") else 'Sin Agente'\n",
    "            listado_apartamentos.append([nombre, costo, lugar, cuartos, sanitarios, superficie, agente, enlace])\n"
   ]
  },
  {
   "cell_type": "code",
   "execution_count": 19,
   "metadata": {},
   "outputs": [
    {
     "name": "stdout",
     "output_type": "stream",
     "text": [
      "    Nombre    Costo               Lugar Cuartos Sanitarios Superficie  \\\n",
      "0  Zona 14  $ 2,500  Zona 14, Guatemala       2        2.5        146   \n",
      "1  Zona 14    $ 900  Zona 14, Guatemala       2          1         70   \n",
      "2  Zona 14  $ 2,200  Zona 14, Guatemala       2        2.5        160   \n",
      "3  Zona 14  $ 1,850  Zona 14, Guatemala       2          2        125   \n",
      "4  Zona 14  $ 2,200  Zona 14, Guatemala       2        2.5        195   \n",
      "\n",
      "                              Agente                                     URL  \n",
      "0                  COINMSA Guatemala  https://mapainmueble.com/area/zona-14/  \n",
      "1              Ambiente Inmobiliario  https://mapainmueble.com/area/zona-14/  \n",
      "2  Conexión Conexión Inmobiliaria GT  https://mapainmueble.com/area/zona-14/  \n",
      "3  Conexión Conexión Inmobiliaria GT  https://mapainmueble.com/area/zona-14/  \n",
      "4                     Cynthia Roldan  https://mapainmueble.com/area/zona-14/  \n"
     ]
    }
   ],
   "source": [
    "# Chunk 6 \n",
    "dataframe_apartamentos = pd.DataFrame(listado_apartamentos, columns=[\"Nombre\", \"Costo\", \"Lugar\", \"Cuartos\", \"Sanitarios\", \"Superficie\", \"Agente\", \"URL\"])\n",
    "dataframe_apartamentos.to_csv(\"listado_apartamentos_zona_14.csv\", index=False)\n",
    "print(dataframe_apartamentos.head())\n"
   ]
  }
 ],
 "metadata": {
  "kernelspec": {
   "display_name": "Python 3",
   "language": "python",
   "name": "python3"
  },
  "language_info": {
   "codemirror_mode": {
    "name": "ipython",
    "version": 3
   },
   "file_extension": ".py",
   "mimetype": "text/x-python",
   "name": "python",
   "nbconvert_exporter": "python",
   "pygments_lexer": "ipython3",
   "version": "3.12.4"
  }
 },
 "nbformat": 4,
 "nbformat_minor": 2
}
