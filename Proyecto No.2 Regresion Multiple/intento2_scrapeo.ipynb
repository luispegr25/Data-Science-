{
 "cells": [
  {
   "cell_type": "code",
   "execution_count": null,
   "metadata": {},
   "outputs": [],
   "source": [
    "import re\n",
    "from selenium import webdriver\n",
    "import time\n",
    "from selenium.webdriver.chrome.options import Options\n",
    "from selenium.webdriver.chrome.service import Service\n",
    "from selenium.webdriver.common.by import By\n"
   ]
  },
  {
   "cell_type": "code",
   "execution_count": null,
   "metadata": {},
   "outputs": [],
   "source": [
    "file_path = \"apartamentos_selenium.csv\"\n",
    "if os.path.exists(file_path):\n",
    "    os.remove(file_path)\n",
    "\n",
    "\n",
    "service = Service(\"C:\\\\Users\\\\luisp\\\\Desktop\\\\Drivers\\\\chromedriver-win64\\\\chromedriver.exe\")\n",
    "\n",
    "driver= webdriver.Chrome(service=service)\n",
    "\n",
    "driver.get(\"https://mapainmueble.com\")\n",
    "time.sleep(2)\n",
    "\n",
    "# URL base para cambiar de página automáticamente\n",
    "base_url = \"https://mapainmueble.com/apartamentos-en-venta/page/{}\"\n",
    "\n",
    "# Lista para almacenar datos de inmuebles\n",
    "datos_inmuebles = []\n",
    "max_paginas = 20  # Límite de páginas a scrapear\n",
    "\n",
    "# Función para extraer datos de una propiedad\n",
    "def extraer_detalles():\n",
    "    try:\n",
    "        collapse_section = driver.find_element(By.ID, \"collapseOne\")  # Buscar div con ID collapseOne\n",
    "        detalles_seccion = collapse_section.find_element(By.CLASS_NAME, \"panel-body\")  # Encuentra el panel-body correcto\n",
    "        detalles_items = detalles_seccion.find_elements(By.CSS_SELECTOR, \"div.listing_detail\")\n",
    "\n",
    "        detalles_dict = {\"URL\": driver.current_url}  # Guardar URL de la propiedad\n",
    "\n",
    "        for item in detalles_items:\n",
    "            try:\n",
    "                clave = item.find_element(By.TAG_NAME, \"strong\").text.strip().replace(\":\", \"\")\n",
    "                valor = item.text.replace(clave, \"\").strip()\n",
    "                detalles_dict[clave] = valor\n",
    "                print(f\"   ✅ {clave}: {valor}\")  # Mostrar en tiempo real\n",
    "            except:\n",
    "                continue  # Si hay un error, saltar este dato\n",
    "\n",
    "        return detalles_dict\n",
    "    except:\n",
    "        print(\"❌ No se encontró la sección de detalles.\")\n",
    "        return None\n",
    "\n",
    "# 🔄 Loop para recorrer todas las páginas\n",
    "for pagina in range(1, max_paginas + 1):\n",
    "    url_pagina = base_url.format(pagina)\n",
    "    print(f\"\\n📌 Cargando página {pagina}: {url_pagina}\")\n",
    "    driver.get(url_pagina)\n",
    "    time.sleep(2)  # Espera rápida para cargar la página\n",
    "\n",
    "    # 🔹 Encontrar todos los anuncios en la página actual\n",
    "    listings = driver.find_elements(By.CSS_SELECTOR, \"div.property_listing.property_card_default\")\n",
    "    links = []\n",
    "\n",
    "    for listing in listings:\n",
    "        try:\n",
    "            link_tag = listing.find_element(By.CSS_SELECTOR, \"h4 a\")\n",
    "            url = link_tag.get_attribute(\"href\")\n",
    "            links.append(url)\n",
    "        except:\n",
    "            continue\n",
    "\n",
    "    if not links:\n",
    "        print(\"🚫 No se encontraron más propiedades, terminando el scraping.\")\n",
    "        break  # Si no hay más propiedades, salimos del loop\n",
    "\n",
    "    print(f\"✅ Encontradas {len(links)} propiedades en esta página.\")\n",
    "\n",
    "    # 🔹 Ingresar a cada propiedad y extraer datos\n",
    "    for idx, link in enumerate(links):\n",
    "        driver.get(link)\n",
    "        time.sleep(1.5)  # Espera corta para no perder datos\n",
    "\n",
    "        print(f\"\\n🔍 Extrayendo datos de propiedad #{idx + 1}... ({link})\")\n",
    "\n",
    "        datos = extraer_detalles()\n",
    "        if datos:\n",
    "            datos_inmuebles.append(datos)\n",
    "\n",
    "# Cerrar Selenium\n",
    "driver.quit()\n",
    "\n",
    "# Guardar datos en CSV\n",
    "df = pd.DataFrame(datos_inmuebles)\n",
    "df.to_csv(\"apartamentos_selenium.csv\", index=False)\n",
    "print(\"\\n📁 Archivo 'inmuebles_completos.csv' generado con éxito.\")"
   ]
  },
  {
   "cell_type": "code",
   "execution_count": 161,
   "metadata": {},
   "outputs": [],
   "source": [
    "import pandas as pd\n",
    "import os\n",
    "\n",
    "file_path = \"nuevo_apartamentos_selenium.csv\"\n",
    "if os.path.exists(file_path):\n",
    "    os.remove(file_path)"
   ]
  },
  {
   "cell_type": "code",
   "execution_count": 162,
   "metadata": {},
   "outputs": [
    {
     "data": {
      "application/vnd.microsoft.datawrangler.viewer.v0+json": {
       "columns": [
        {
         "name": "index",
         "rawType": "int64",
         "type": "integer"
        },
        {
         "name": "URL",
         "rawType": "object",
         "type": "string"
        },
        {
         "name": "Precio",
         "rawType": "object",
         "type": "string"
        },
        {
         "name": "Tamaño de la propiedad",
         "rawType": "object",
         "type": "unknown"
        },
        {
         "name": "Parqueos",
         "rawType": "object",
         "type": "string"
        },
        {
         "name": "Dormitorios",
         "rawType": "object",
         "type": "string"
        },
        {
         "name": "Baños",
         "rawType": "object",
         "type": "string"
        },
        {
         "name": "ID de la propiedad",
         "rawType": "object",
         "type": "string"
        },
        {
         "name": "Tamaño del lote del Inmueble",
         "rawType": "object",
         "type": "unknown"
        }
       ],
       "conversionMethod": "pd.DataFrame",
       "ref": "1b349d2c-0aa4-4d8b-a9d1-2fc9b7e102bf",
       "rows": [
        [
         "0",
         "https://mapainmueble.com/properties/apartamento-en-venta-en-edificio-mariscal-uno-uno-zona-11-ciudad-de-guatemala-dva24953/",
         ": $ 137,500 (GTQ 1,100,000.00)",
         ": 75 m2",
         ": 2",
         ": 3",
         ": 2",
         ": DVA24953",
         null
        ],
        [
         "1",
         "https://mapainmueble.com/properties/amplio-apartamento-en-venta-zen-cayala-cva7490/",
         ": $ 550,000",
         ": 254 m2",
         ": 2",
         ": 3",
         ": 3",
         ": CVA7490",
         ": 10 m2"
        ],
        [
         "2",
         "https://mapainmueble.com/properties/penthouse-en-venta-zen-cayala-zona-16-d-dva24775/",
         ": $ 1,000,000",
         ": 400 m2",
         ": 3",
         ": 3",
         ": 3.5",
         ": DVA24775",
         null
        ],
        [
         "3",
         "https://mapainmueble.com/properties/apartamento-en-venta-zona-16-con-jardin-dva24766/",
         ": $ 210,000 + Impuestos",
         ": 179 m2",
         ": 2",
         ": 3",
         ": 2",
         ": DVA24766",
         null
        ],
        [
         "4",
         "https://mapainmueble.com/properties/venta-moderno-apartamento-zona-10-dva24758/",
         ": $ 153,850 NEGOCIABLE",
         null,
         ": 1",
         ": 1",
         ": 1",
         ": DVA24758",
         null
        ]
       ],
       "shape": {
        "columns": 8,
        "rows": 5
       }
      },
      "text/html": [
       "<div>\n",
       "<style scoped>\n",
       "    .dataframe tbody tr th:only-of-type {\n",
       "        vertical-align: middle;\n",
       "    }\n",
       "\n",
       "    .dataframe tbody tr th {\n",
       "        vertical-align: top;\n",
       "    }\n",
       "\n",
       "    .dataframe thead th {\n",
       "        text-align: right;\n",
       "    }\n",
       "</style>\n",
       "<table border=\"1\" class=\"dataframe\">\n",
       "  <thead>\n",
       "    <tr style=\"text-align: right;\">\n",
       "      <th></th>\n",
       "      <th>URL</th>\n",
       "      <th>Precio</th>\n",
       "      <th>Tamaño de la propiedad</th>\n",
       "      <th>Parqueos</th>\n",
       "      <th>Dormitorios</th>\n",
       "      <th>Baños</th>\n",
       "      <th>ID de la propiedad</th>\n",
       "      <th>Tamaño del lote del Inmueble</th>\n",
       "    </tr>\n",
       "  </thead>\n",
       "  <tbody>\n",
       "    <tr>\n",
       "      <th>0</th>\n",
       "      <td>https://mapainmueble.com/properties/apartament...</td>\n",
       "      <td>: $ 137,500 (GTQ 1,100,000.00)</td>\n",
       "      <td>: 75 m2</td>\n",
       "      <td>: 2</td>\n",
       "      <td>: 3</td>\n",
       "      <td>: 2</td>\n",
       "      <td>: DVA24953</td>\n",
       "      <td>NaN</td>\n",
       "    </tr>\n",
       "    <tr>\n",
       "      <th>1</th>\n",
       "      <td>https://mapainmueble.com/properties/amplio-apa...</td>\n",
       "      <td>: $ 550,000</td>\n",
       "      <td>: 254 m2</td>\n",
       "      <td>: 2</td>\n",
       "      <td>: 3</td>\n",
       "      <td>: 3</td>\n",
       "      <td>: CVA7490</td>\n",
       "      <td>: 10 m2</td>\n",
       "    </tr>\n",
       "    <tr>\n",
       "      <th>2</th>\n",
       "      <td>https://mapainmueble.com/properties/penthouse-...</td>\n",
       "      <td>: $ 1,000,000</td>\n",
       "      <td>: 400 m2</td>\n",
       "      <td>: 3</td>\n",
       "      <td>: 3</td>\n",
       "      <td>: 3.5</td>\n",
       "      <td>: DVA24775</td>\n",
       "      <td>NaN</td>\n",
       "    </tr>\n",
       "    <tr>\n",
       "      <th>3</th>\n",
       "      <td>https://mapainmueble.com/properties/apartament...</td>\n",
       "      <td>: $ 210,000 + Impuestos</td>\n",
       "      <td>: 179 m2</td>\n",
       "      <td>: 2</td>\n",
       "      <td>: 3</td>\n",
       "      <td>: 2</td>\n",
       "      <td>: DVA24766</td>\n",
       "      <td>NaN</td>\n",
       "    </tr>\n",
       "    <tr>\n",
       "      <th>4</th>\n",
       "      <td>https://mapainmueble.com/properties/venta-mode...</td>\n",
       "      <td>: $ 153,850 NEGOCIABLE</td>\n",
       "      <td>NaN</td>\n",
       "      <td>: 1</td>\n",
       "      <td>: 1</td>\n",
       "      <td>: 1</td>\n",
       "      <td>: DVA24758</td>\n",
       "      <td>NaN</td>\n",
       "    </tr>\n",
       "  </tbody>\n",
       "</table>\n",
       "</div>"
      ],
      "text/plain": [
       "                                                 URL  \\\n",
       "0  https://mapainmueble.com/properties/apartament...   \n",
       "1  https://mapainmueble.com/properties/amplio-apa...   \n",
       "2  https://mapainmueble.com/properties/penthouse-...   \n",
       "3  https://mapainmueble.com/properties/apartament...   \n",
       "4  https://mapainmueble.com/properties/venta-mode...   \n",
       "\n",
       "                           Precio Tamaño de la propiedad Parqueos Dormitorios  \\\n",
       "0  : $ 137,500 (GTQ 1,100,000.00)                : 75 m2      : 2         : 3   \n",
       "1                     : $ 550,000               : 254 m2      : 2         : 3   \n",
       "2                   : $ 1,000,000               : 400 m2      : 3         : 3   \n",
       "3         : $ 210,000 + Impuestos               : 179 m2      : 2         : 3   \n",
       "4          : $ 153,850 NEGOCIABLE                    NaN      : 1         : 1   \n",
       "\n",
       "   Baños ID de la propiedad Tamaño del lote del Inmueble  \n",
       "0    : 2         : DVA24953                          NaN  \n",
       "1    : 3          : CVA7490                      : 10 m2  \n",
       "2  : 3.5         : DVA24775                          NaN  \n",
       "3    : 2         : DVA24766                          NaN  \n",
       "4    : 1         : DVA24758                          NaN  "
      ]
     },
     "execution_count": 162,
     "metadata": {},
     "output_type": "execute_result"
    }
   ],
   "source": [
    "df = pd.read_csv('apartamentos_selenium.csv')\n",
    "df.head()"
   ]
  },
  {
   "cell_type": "code",
   "execution_count": 163,
   "metadata": {},
   "outputs": [
    {
     "data": {
      "application/vnd.microsoft.datawrangler.viewer.v0+json": {
       "columns": [
        {
         "name": "index",
         "rawType": "int64",
         "type": "integer"
        },
        {
         "name": "Precio",
         "rawType": "object",
         "type": "string"
        },
        {
         "name": "Tamaño de la propiedad",
         "rawType": "object",
         "type": "unknown"
        },
        {
         "name": "Parqueos",
         "rawType": "object",
         "type": "string"
        },
        {
         "name": "Dormitorios",
         "rawType": "object",
         "type": "string"
        },
        {
         "name": "Baños",
         "rawType": "object",
         "type": "string"
        }
       ],
       "conversionMethod": "pd.DataFrame",
       "ref": "78b4340f-f559-45c4-9d98-b07e3575e363",
       "rows": [
        [
         "0",
         ": $ 137,500 (GTQ 1,100,000.00)",
         ": 75 m2",
         ": 2",
         ": 3",
         ": 2"
        ],
        [
         "1",
         ": $ 550,000",
         ": 254 m2",
         ": 2",
         ": 3",
         ": 3"
        ],
        [
         "2",
         ": $ 1,000,000",
         ": 400 m2",
         ": 3",
         ": 3",
         ": 3.5"
        ],
        [
         "3",
         ": $ 210,000 + Impuestos",
         ": 179 m2",
         ": 2",
         ": 3",
         ": 2"
        ],
        [
         "4",
         ": $ 153,850 NEGOCIABLE",
         null,
         ": 1",
         ": 1",
         ": 1"
        ]
       ],
       "shape": {
        "columns": 5,
        "rows": 5
       }
      },
      "text/html": [
       "<div>\n",
       "<style scoped>\n",
       "    .dataframe tbody tr th:only-of-type {\n",
       "        vertical-align: middle;\n",
       "    }\n",
       "\n",
       "    .dataframe tbody tr th {\n",
       "        vertical-align: top;\n",
       "    }\n",
       "\n",
       "    .dataframe thead th {\n",
       "        text-align: right;\n",
       "    }\n",
       "</style>\n",
       "<table border=\"1\" class=\"dataframe\">\n",
       "  <thead>\n",
       "    <tr style=\"text-align: right;\">\n",
       "      <th></th>\n",
       "      <th>Precio</th>\n",
       "      <th>Tamaño de la propiedad</th>\n",
       "      <th>Parqueos</th>\n",
       "      <th>Dormitorios</th>\n",
       "      <th>Baños</th>\n",
       "    </tr>\n",
       "  </thead>\n",
       "  <tbody>\n",
       "    <tr>\n",
       "      <th>0</th>\n",
       "      <td>: $ 137,500 (GTQ 1,100,000.00)</td>\n",
       "      <td>: 75 m2</td>\n",
       "      <td>: 2</td>\n",
       "      <td>: 3</td>\n",
       "      <td>: 2</td>\n",
       "    </tr>\n",
       "    <tr>\n",
       "      <th>1</th>\n",
       "      <td>: $ 550,000</td>\n",
       "      <td>: 254 m2</td>\n",
       "      <td>: 2</td>\n",
       "      <td>: 3</td>\n",
       "      <td>: 3</td>\n",
       "    </tr>\n",
       "    <tr>\n",
       "      <th>2</th>\n",
       "      <td>: $ 1,000,000</td>\n",
       "      <td>: 400 m2</td>\n",
       "      <td>: 3</td>\n",
       "      <td>: 3</td>\n",
       "      <td>: 3.5</td>\n",
       "    </tr>\n",
       "    <tr>\n",
       "      <th>3</th>\n",
       "      <td>: $ 210,000 + Impuestos</td>\n",
       "      <td>: 179 m2</td>\n",
       "      <td>: 2</td>\n",
       "      <td>: 3</td>\n",
       "      <td>: 2</td>\n",
       "    </tr>\n",
       "    <tr>\n",
       "      <th>4</th>\n",
       "      <td>: $ 153,850 NEGOCIABLE</td>\n",
       "      <td>NaN</td>\n",
       "      <td>: 1</td>\n",
       "      <td>: 1</td>\n",
       "      <td>: 1</td>\n",
       "    </tr>\n",
       "  </tbody>\n",
       "</table>\n",
       "</div>"
      ],
      "text/plain": [
       "                           Precio Tamaño de la propiedad Parqueos Dormitorios  \\\n",
       "0  : $ 137,500 (GTQ 1,100,000.00)                : 75 m2      : 2         : 3   \n",
       "1                     : $ 550,000               : 254 m2      : 2         : 3   \n",
       "2                   : $ 1,000,000               : 400 m2      : 3         : 3   \n",
       "3         : $ 210,000 + Impuestos               : 179 m2      : 2         : 3   \n",
       "4          : $ 153,850 NEGOCIABLE                    NaN      : 1         : 1   \n",
       "\n",
       "   Baños  \n",
       "0    : 2  \n",
       "1    : 3  \n",
       "2  : 3.5  \n",
       "3    : 2  \n",
       "4    : 1  "
      ]
     },
     "execution_count": 163,
     "metadata": {},
     "output_type": "execute_result"
    }
   ],
   "source": [
    "\n",
    "df.drop(['URL','Tamaño del lote del Inmueble', 'ID de la propiedad'], axis=1, inplace=True)\n",
    "df.head()"
   ]
  },
  {
   "cell_type": "code",
   "execution_count": 164,
   "metadata": {},
   "outputs": [
    {
     "name": "stderr",
     "output_type": "stream",
     "text": [
      "C:\\Users\\luisp\\AppData\\Local\\Temp\\ipykernel_26516\\1252828661.py:4: UserWarning: This pattern is interpreted as a regular expression, and has match groups. To actually get the groups, use str.extract.\n",
      "  df = df[df['Precio'].str.contains(r'^:\\s*\\$\\s*\\d+([\\.,]\\d+)?', regex=True)]\n"
     ]
    },
    {
     "data": {
      "application/vnd.microsoft.datawrangler.viewer.v0+json": {
       "columns": [
        {
         "name": "index",
         "rawType": "int64",
         "type": "integer"
        },
        {
         "name": "Precio",
         "rawType": "object",
         "type": "string"
        },
        {
         "name": "Tamaño de la propiedad",
         "rawType": "object",
         "type": "unknown"
        },
        {
         "name": "Parqueos",
         "rawType": "object",
         "type": "string"
        },
        {
         "name": "Dormitorios",
         "rawType": "object",
         "type": "string"
        },
        {
         "name": "Baños",
         "rawType": "object",
         "type": "string"
        }
       ],
       "conversionMethod": "pd.DataFrame",
       "ref": "c41973c9-d85e-4827-8e12-17fceeff7ef0",
       "rows": [
        [
         "0",
         "137,500 (GTQ 1,100,000.00)",
         ": 75 m2",
         ": 2",
         ": 3",
         ": 2"
        ],
        [
         "1",
         "550,000",
         ": 254 m2",
         ": 2",
         ": 3",
         ": 3"
        ],
        [
         "2",
         "1,000,000",
         ": 400 m2",
         ": 3",
         ": 3",
         ": 3.5"
        ],
        [
         "3",
         "210,000 + Impuestos",
         ": 179 m2",
         ": 2",
         ": 3",
         ": 2"
        ],
        [
         "4",
         "153,850 NEGOCIABLE",
         null,
         ": 1",
         ": 1",
         ": 1"
        ]
       ],
       "shape": {
        "columns": 5,
        "rows": 5
       }
      },
      "text/html": [
       "<div>\n",
       "<style scoped>\n",
       "    .dataframe tbody tr th:only-of-type {\n",
       "        vertical-align: middle;\n",
       "    }\n",
       "\n",
       "    .dataframe tbody tr th {\n",
       "        vertical-align: top;\n",
       "    }\n",
       "\n",
       "    .dataframe thead th {\n",
       "        text-align: right;\n",
       "    }\n",
       "</style>\n",
       "<table border=\"1\" class=\"dataframe\">\n",
       "  <thead>\n",
       "    <tr style=\"text-align: right;\">\n",
       "      <th></th>\n",
       "      <th>Precio</th>\n",
       "      <th>Tamaño de la propiedad</th>\n",
       "      <th>Parqueos</th>\n",
       "      <th>Dormitorios</th>\n",
       "      <th>Baños</th>\n",
       "    </tr>\n",
       "  </thead>\n",
       "  <tbody>\n",
       "    <tr>\n",
       "      <th>0</th>\n",
       "      <td>137,500 (GTQ 1,100,000.00)</td>\n",
       "      <td>: 75 m2</td>\n",
       "      <td>: 2</td>\n",
       "      <td>: 3</td>\n",
       "      <td>: 2</td>\n",
       "    </tr>\n",
       "    <tr>\n",
       "      <th>1</th>\n",
       "      <td>550,000</td>\n",
       "      <td>: 254 m2</td>\n",
       "      <td>: 2</td>\n",
       "      <td>: 3</td>\n",
       "      <td>: 3</td>\n",
       "    </tr>\n",
       "    <tr>\n",
       "      <th>2</th>\n",
       "      <td>1,000,000</td>\n",
       "      <td>: 400 m2</td>\n",
       "      <td>: 3</td>\n",
       "      <td>: 3</td>\n",
       "      <td>: 3.5</td>\n",
       "    </tr>\n",
       "    <tr>\n",
       "      <th>3</th>\n",
       "      <td>210,000 + Impuestos</td>\n",
       "      <td>: 179 m2</td>\n",
       "      <td>: 2</td>\n",
       "      <td>: 3</td>\n",
       "      <td>: 2</td>\n",
       "    </tr>\n",
       "    <tr>\n",
       "      <th>4</th>\n",
       "      <td>153,850 NEGOCIABLE</td>\n",
       "      <td>NaN</td>\n",
       "      <td>: 1</td>\n",
       "      <td>: 1</td>\n",
       "      <td>: 1</td>\n",
       "    </tr>\n",
       "  </tbody>\n",
       "</table>\n",
       "</div>"
      ],
      "text/plain": [
       "                       Precio Tamaño de la propiedad Parqueos Dormitorios  \\\n",
       "0  137,500 (GTQ 1,100,000.00)                : 75 m2      : 2         : 3   \n",
       "1                     550,000               : 254 m2      : 2         : 3   \n",
       "2                   1,000,000               : 400 m2      : 3         : 3   \n",
       "3         210,000 + Impuestos               : 179 m2      : 2         : 3   \n",
       "4          153,850 NEGOCIABLE                    NaN      : 1         : 1   \n",
       "\n",
       "   Baños  \n",
       "0    : 2  \n",
       "1    : 3  \n",
       "2  : 3.5  \n",
       "3    : 2  \n",
       "4    : 1  "
      ]
     },
     "execution_count": 164,
     "metadata": {},
     "output_type": "execute_result"
    }
   ],
   "source": [
    "df['Precio'] = df['Precio'].astype(str)\n",
    "\n",
    "# Filtra las filas para mantener solo formatos de precio válidos\n",
    "df = df[df['Precio'].str.contains(r'^:\\s*\\$\\s*\\d+([\\.,]\\d+)?', regex=True)]\n",
    "\n",
    "# Remueve el signo de dólar, los espacios y caracteres adicionales alrededor de los números\n",
    "df['Precio'] = df['Precio'].str.replace(r'^:\\s*\\$\\s*', '', regex=True)\n",
    "\n",
    "# Muestra las primeras filas del dataframe resultante\n",
    "df.head()"
   ]
  },
  {
   "cell_type": "code",
   "execution_count": 165,
   "metadata": {},
   "outputs": [
    {
     "name": "stderr",
     "output_type": "stream",
     "text": [
      "C:\\Users\\luisp\\AppData\\Local\\Temp\\ipykernel_26516\\1613944272.py:1: UserWarning: This pattern is interpreted as a regular expression, and has match groups. To actually get the groups, use str.extract.\n",
      "  df = df[df['Precio'].str.contains(r'^\\d+([\\.,]\\d+)?$', regex=True)]\n"
     ]
    },
    {
     "data": {
      "application/vnd.microsoft.datawrangler.viewer.v0+json": {
       "columns": [
        {
         "name": "index",
         "rawType": "int64",
         "type": "integer"
        },
        {
         "name": "Precio",
         "rawType": "object",
         "type": "string"
        },
        {
         "name": "Tamaño de la propiedad",
         "rawType": "object",
         "type": "string"
        },
        {
         "name": "Parqueos",
         "rawType": "object",
         "type": "string"
        },
        {
         "name": "Dormitorios",
         "rawType": "object",
         "type": "string"
        },
        {
         "name": "Baños",
         "rawType": "object",
         "type": "string"
        }
       ],
       "conversionMethod": "pd.DataFrame",
       "ref": "5efa2dfd-a9d1-4981-9680-89a928774681",
       "rows": [
        [
         "1",
         "550,000",
         ": 254 m2",
         ": 2",
         ": 3",
         ": 3"
        ],
        [
         "15",
         "220,000",
         ": 133 m2",
         ": 1",
         ": 2",
         ": 2"
        ],
        [
         "19",
         "288,000",
         ": 102 m2",
         ": 2",
         ": 2",
         ": 2.5"
        ],
        [
         "20",
         "220,000",
         ": 65 m2",
         ": 1",
         ": 2",
         ": 2"
        ],
        [
         "21",
         "55,650",
         ": 53 m2",
         ": 1",
         ": 3",
         ": 1"
        ]
       ],
       "shape": {
        "columns": 5,
        "rows": 5
       }
      },
      "text/html": [
       "<div>\n",
       "<style scoped>\n",
       "    .dataframe tbody tr th:only-of-type {\n",
       "        vertical-align: middle;\n",
       "    }\n",
       "\n",
       "    .dataframe tbody tr th {\n",
       "        vertical-align: top;\n",
       "    }\n",
       "\n",
       "    .dataframe thead th {\n",
       "        text-align: right;\n",
       "    }\n",
       "</style>\n",
       "<table border=\"1\" class=\"dataframe\">\n",
       "  <thead>\n",
       "    <tr style=\"text-align: right;\">\n",
       "      <th></th>\n",
       "      <th>Precio</th>\n",
       "      <th>Tamaño de la propiedad</th>\n",
       "      <th>Parqueos</th>\n",
       "      <th>Dormitorios</th>\n",
       "      <th>Baños</th>\n",
       "    </tr>\n",
       "  </thead>\n",
       "  <tbody>\n",
       "    <tr>\n",
       "      <th>1</th>\n",
       "      <td>550,000</td>\n",
       "      <td>: 254 m2</td>\n",
       "      <td>: 2</td>\n",
       "      <td>: 3</td>\n",
       "      <td>: 3</td>\n",
       "    </tr>\n",
       "    <tr>\n",
       "      <th>15</th>\n",
       "      <td>220,000</td>\n",
       "      <td>: 133 m2</td>\n",
       "      <td>: 1</td>\n",
       "      <td>: 2</td>\n",
       "      <td>: 2</td>\n",
       "    </tr>\n",
       "    <tr>\n",
       "      <th>19</th>\n",
       "      <td>288,000</td>\n",
       "      <td>: 102 m2</td>\n",
       "      <td>: 2</td>\n",
       "      <td>: 2</td>\n",
       "      <td>: 2.5</td>\n",
       "    </tr>\n",
       "    <tr>\n",
       "      <th>20</th>\n",
       "      <td>220,000</td>\n",
       "      <td>: 65 m2</td>\n",
       "      <td>: 1</td>\n",
       "      <td>: 2</td>\n",
       "      <td>: 2</td>\n",
       "    </tr>\n",
       "    <tr>\n",
       "      <th>21</th>\n",
       "      <td>55,650</td>\n",
       "      <td>: 53 m2</td>\n",
       "      <td>: 1</td>\n",
       "      <td>: 3</td>\n",
       "      <td>: 1</td>\n",
       "    </tr>\n",
       "  </tbody>\n",
       "</table>\n",
       "</div>"
      ],
      "text/plain": [
       "     Precio Tamaño de la propiedad Parqueos Dormitorios  Baños\n",
       "1   550,000               : 254 m2      : 2         : 3    : 3\n",
       "15  220,000               : 133 m2      : 1         : 2    : 2\n",
       "19  288,000               : 102 m2      : 2         : 2  : 2.5\n",
       "20  220,000                : 65 m2      : 1         : 2    : 2\n",
       "21   55,650                : 53 m2      : 1         : 3    : 1"
      ]
     },
     "execution_count": 165,
     "metadata": {},
     "output_type": "execute_result"
    }
   ],
   "source": [
    "df = df[df['Precio'].str.contains(r'^\\d+([\\.,]\\d+)?$', regex=True)]\n",
    "\n",
    "df.head()"
   ]
  },
  {
   "cell_type": "code",
   "execution_count": 166,
   "metadata": {},
   "outputs": [
    {
     "data": {
      "application/vnd.microsoft.datawrangler.viewer.v0+json": {
       "columns": [
        {
         "name": "index",
         "rawType": "int64",
         "type": "integer"
        },
        {
         "name": "Precio",
         "rawType": "object",
         "type": "string"
        },
        {
         "name": "Tamaño de la propiedad",
         "rawType": "float64",
         "type": "float"
        },
        {
         "name": "Parqueos",
         "rawType": "float64",
         "type": "float"
        },
        {
         "name": "Dormitorios",
         "rawType": "float64",
         "type": "float"
        },
        {
         "name": "Baños",
         "rawType": "float64",
         "type": "float"
        }
       ],
       "conversionMethod": "pd.DataFrame",
       "ref": "c08852bf-a17d-424f-b55a-9e909b281cc4",
       "rows": [
        [
         "1",
         "550,000",
         "254.0",
         "2.0",
         "3.0",
         "3.0"
        ],
        [
         "15",
         "220,000",
         "133.0",
         "1.0",
         "2.0",
         "2.0"
        ],
        [
         "19",
         "288,000",
         "102.0",
         "2.0",
         "2.0",
         "2.5"
        ],
        [
         "20",
         "220,000",
         "65.0",
         "1.0",
         "2.0",
         "2.0"
        ],
        [
         "21",
         "55,650",
         "53.0",
         "1.0",
         "3.0",
         "1.0"
        ]
       ],
       "shape": {
        "columns": 5,
        "rows": 5
       }
      },
      "text/html": [
       "<div>\n",
       "<style scoped>\n",
       "    .dataframe tbody tr th:only-of-type {\n",
       "        vertical-align: middle;\n",
       "    }\n",
       "\n",
       "    .dataframe tbody tr th {\n",
       "        vertical-align: top;\n",
       "    }\n",
       "\n",
       "    .dataframe thead th {\n",
       "        text-align: right;\n",
       "    }\n",
       "</style>\n",
       "<table border=\"1\" class=\"dataframe\">\n",
       "  <thead>\n",
       "    <tr style=\"text-align: right;\">\n",
       "      <th></th>\n",
       "      <th>Precio</th>\n",
       "      <th>Tamaño de la propiedad</th>\n",
       "      <th>Parqueos</th>\n",
       "      <th>Dormitorios</th>\n",
       "      <th>Baños</th>\n",
       "    </tr>\n",
       "  </thead>\n",
       "  <tbody>\n",
       "    <tr>\n",
       "      <th>1</th>\n",
       "      <td>550,000</td>\n",
       "      <td>254.0</td>\n",
       "      <td>2.0</td>\n",
       "      <td>3.0</td>\n",
       "      <td>3.0</td>\n",
       "    </tr>\n",
       "    <tr>\n",
       "      <th>15</th>\n",
       "      <td>220,000</td>\n",
       "      <td>133.0</td>\n",
       "      <td>1.0</td>\n",
       "      <td>2.0</td>\n",
       "      <td>2.0</td>\n",
       "    </tr>\n",
       "    <tr>\n",
       "      <th>19</th>\n",
       "      <td>288,000</td>\n",
       "      <td>102.0</td>\n",
       "      <td>2.0</td>\n",
       "      <td>2.0</td>\n",
       "      <td>2.5</td>\n",
       "    </tr>\n",
       "    <tr>\n",
       "      <th>20</th>\n",
       "      <td>220,000</td>\n",
       "      <td>65.0</td>\n",
       "      <td>1.0</td>\n",
       "      <td>2.0</td>\n",
       "      <td>2.0</td>\n",
       "    </tr>\n",
       "    <tr>\n",
       "      <th>21</th>\n",
       "      <td>55,650</td>\n",
       "      <td>53.0</td>\n",
       "      <td>1.0</td>\n",
       "      <td>3.0</td>\n",
       "      <td>1.0</td>\n",
       "    </tr>\n",
       "  </tbody>\n",
       "</table>\n",
       "</div>"
      ],
      "text/plain": [
       "     Precio  Tamaño de la propiedad  Parqueos  Dormitorios  Baños\n",
       "1   550,000                   254.0       2.0          3.0    3.0\n",
       "15  220,000                   133.0       1.0          2.0    2.0\n",
       "19  288,000                   102.0       2.0          2.0    2.5\n",
       "20  220,000                    65.0       1.0          2.0    2.0\n",
       "21   55,650                    53.0       1.0          3.0    1.0"
      ]
     },
     "execution_count": 166,
     "metadata": {},
     "output_type": "execute_result"
    }
   ],
   "source": [
    "# Asegurando que todas las columnas sean tratadas como strings para la limpieza y manejando valores no numéricos\n",
    "df['Tamaño de la propiedad'] = pd.to_numeric(df['Tamaño de la propiedad'].astype(str).str.replace(': ', '').str.replace('m2', ''), errors='coerce')\n",
    "df['Parqueos'] = pd.to_numeric(df['Parqueos'].astype(str).str.replace(': ', ''), errors='coerce')\n",
    "df['Dormitorios'] = pd.to_numeric(df['Dormitorios'].astype(str).str.replace(': ', ''), errors='coerce').clip(lower=0)\n",
    "df['Baños'] = pd.to_numeric(df['Baños'].astype(str).str.replace(': ', ''), errors='coerce').clip(lower=0)\n",
    "df = df[df['Tamaño de la propiedad'] > 0]\n",
    "\n",
    "# Llenar NaN con 0 o dejar como NaN dependiendo de tus necesidades\n",
    "df.fillna(0, inplace=True)\n",
    "\n",
    "# Muestra las primeras filas del dataframe resultante\n",
    "df.head()\n",
    "\n"
   ]
  },
  {
   "cell_type": "code",
   "execution_count": 167,
   "metadata": {},
   "outputs": [],
   "source": [
    "df.dropna(subset=['Precio', 'Baños', 'Parqueos', 'Tamaño de la propiedad'], inplace=True)\n",
    "\n",
    "df.head()\n",
    "\n",
    "# Guardar el dataframe limpio\n",
    "df.to_csv('nuevo_apartamentos_selenium.csv', index=False)"
   ]
  },
  {
   "cell_type": "code",
   "execution_count": null,
   "metadata": {},
   "outputs": [],
   "source": []
  }
 ],
 "metadata": {
  "kernelspec": {
   "display_name": "Python 3",
   "language": "python",
   "name": "python3"
  },
  "language_info": {
   "codemirror_mode": {
    "name": "ipython",
    "version": 3
   },
   "file_extension": ".py",
   "mimetype": "text/x-python",
   "name": "python",
   "nbconvert_exporter": "python",
   "pygments_lexer": "ipython3",
   "version": "3.12.4"
  }
 },
 "nbformat": 4,
 "nbformat_minor": 2
}
