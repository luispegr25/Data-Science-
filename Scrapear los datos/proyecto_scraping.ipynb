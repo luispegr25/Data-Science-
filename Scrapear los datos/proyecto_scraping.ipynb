{
 "cells": [
  {
   "cell_type": "code",
   "execution_count": 1,
   "metadata": {},
   "outputs": [],
   "source": [
    "#chunk 1\n",
    "import requests\n",
    "from bs4 import BeautifulSoup\n",
    "import csv\n",
    "import pandas as pd\n",
    "import os\n",
    "import re"
   ]
  },
  {
   "cell_type": "code",
   "execution_count": 2,
   "metadata": {},
   "outputs": [],
   "source": [
    "#chunk 2\n",
    "file_path = \"listado_apartamentos_zona_14.csv\"\n",
    "if os.path.exists(file_path):\n",
    "    os.remove(file_path)"
   ]
  },
  {
   "cell_type": "code",
   "execution_count": 3,
   "metadata": {},
   "outputs": [
    {
     "name": "stdout",
     "output_type": "stream",
     "text": [
      "Conexión exitosa.\n"
     ]
    }
   ],
   "source": [
    "# Chunk 3\n",
    "\n",
    "URL = \"https://mapainmueble.com/apartamentos-en-alquiler-zona-14/\"\n",
    "response = requests.get(URL)\n",
    "\n",
    "if response.status_code == 200:\n",
    "    print(\"Conexión exitosa.\")\n",
    "else:\n",
    "    print(f\"Error al conectar con la página: status code {response.status_code}\")\n",
    "\n"
   ]
  },
  {
   "cell_type": "code",
   "execution_count": 4,
   "metadata": {},
   "outputs": [],
   "source": [
    "# Chunk 4\n",
    "url_base = \"https://mapainmueble.com/apartamentos-en-alquiler-zona-14/\"\n",
    "navegador_simulado = {\"User-Agent\": \"Mozilla/5.0\"}\n",
    "listado_apartamentos = []  \n"
   ]
  },
  {
   "cell_type": "code",
   "execution_count": 5,
   "metadata": {},
   "outputs": [
    {
     "name": "stdout",
     "output_type": "stream",
     "text": [
      "Accediendo a https://mapainmueble.com/apartamentos-en-alquiler-zona-14/\n",
      "Accediendo a https://mapainmueble.com/apartamentos-en-alquiler-zona-14/\n",
      "Accediendo a https://mapainmueble.com/apartamentos-en-alquiler-zona-14/page/2/\n",
      "Accediendo a https://mapainmueble.com/apartamentos-en-alquiler-zona-14/page/3/\n",
      "Accediendo a https://mapainmueble.com/apartamentos-en-alquiler-zona-14/page/4/\n",
      "Accediendo a https://mapainmueble.com/apartamentos-en-alquiler-zona-14/page/5/\n",
      "Accediendo a https://mapainmueble.com/apartamentos-en-alquiler-zona-14/page/6/\n",
      "Accediendo a https://mapainmueble.com/apartamentos-en-alquiler-zona-14/page/7/\n",
      "Accediendo a https://mapainmueble.com/apartamentos-en-alquiler-zona-14/page/8/\n",
      "Accediendo a https://mapainmueble.com/apartamentos-en-alquiler-zona-14/page/9/\n",
      "Accediendo a https://mapainmueble.com/apartamentos-en-alquiler-zona-14/page/10/\n",
      "Accediendo a https://mapainmueble.com/apartamentos-en-alquiler-zona-14/page/11/\n",
      "Accediendo a https://mapainmueble.com/apartamentos-en-alquiler-zona-14/page/12/\n",
      "Accediendo a https://mapainmueble.com/apartamentos-en-alquiler-zona-14/page/13/\n",
      "Accediendo a https://mapainmueble.com/apartamentos-en-alquiler-zona-14/page/14/\n",
      "Accediendo a https://mapainmueble.com/apartamentos-en-alquiler-zona-14/page/15/\n",
      "Accediendo a https://mapainmueble.com/apartamentos-en-alquiler-zona-14/page/16/\n",
      "Accediendo a https://mapainmueble.com/apartamentos-en-alquiler-zona-14/page/17/\n",
      "Accediendo a https://mapainmueble.com/apartamentos-en-alquiler-zona-14/page/18/\n",
      "Accediendo a https://mapainmueble.com/apartamentos-en-alquiler-zona-14/page/19/\n",
      "Accediendo a https://mapainmueble.com/apartamentos-en-alquiler-zona-14/page/20/\n"
     ]
    }
   ],
   "source": [
    "# Chunk 5\n",
    "for numero_pagina in range(0, 21): \n",
    "    url_completa = f\"{url_base}page/{numero_pagina}/\" if numero_pagina > 1 else url_base\n",
    "    print(f\"Accediendo a {url_completa}\")\n",
    "    response = requests.get(url_completa, headers=navegador_simulado)\n",
    "    if response.status_code == 200:\n",
    "        soup = BeautifulSoup(response.text, 'html.parser')\n",
    "  \n",
    "        apartamentos = soup.find_all(\"div\", class_=\"property_listing property_card_default\")\n",
    "        for apartamento in apartamentos:\n",
    "            precio = apartamento.find(\"div\", class_=\"listing_unit_price_wrapper\").text.strip().split(\"\\n\")[0] if apartamento.find(\"div\", class_=\"listing_unit_price_wrapper\") else 'Sin Precio'\n",
    "            dormitorios = apartamento.find(\"span\", class_=\"inforoom\").text.strip() if apartamento.find(\"span\", class_=\"inforoom\") else 'Info no disponible'\n",
    "            nombre = apartamento.find(\"a\").text.strip() if apartamento.find(\"a\") else 'Sin Título'\n",
    "            tamano_en_mt2 = apartamento.find(\"span\", class_=\"infosize\").text.strip().split(\" \")[0] if apartamento.find(\"span\", class_=\"infosize\") else 'Info no disponible'\n",
    "            habitaciones = apartamento.find(\"span\", class_=\"inforoom\").text.strip() if apartamento.find(\"span\", class_=\"inforoom\") else 'Info no disponible'\n",
    "            sanitarios = apartamento.find(\"span\", class_=\"infobath\").text.strip() if apartamento.find(\"span\", class_=\"infobath\") else 'Info no disponible'\n",
    "            parqueos = apartamento.find(\"span\", class_=\"infoParking\").text.strip() if apartamento.find(\"span\", class_=\"infoParking\") else 'Info no disponible'\n",
    "            zona = \"Zona 14, Guatemala\"\n",
    "            agente = apartamento.find(\"div\", class_=\"property_agent_wrapper\").find(\"a\").text.strip() if apartamento.find(\"div\", class_=\"property_agent_wrapper\") and apartamento.find(\"div\", class_=\"property_agent_wrapper\").find(\"a\") else 'Sin Agente'\n",
    "            enlace = apartamento.find(\"a\")[\"href\"] if apartamento.find(\"a\") else 'Sin URL'\n",
    "            tipo_propiedad = apartamento.find(\"span\", class_=\"property_type\").text.strip() if apartamento.find(\"span\", class_=\"property_type\") else 'Tipo no especificado'\n",
    "            listado_apartamentos.append([precio, dormitorios, nombre, tamano_en_mt2, habitaciones, sanitarios, parqueos, zona, agente, tipo_propiedad, enlace])\n",
    "    else:\n",
    "        print(f\"Error al cargar la página {numero_pagina}: {response.status_code}\")"
   ]
  },
  {
   "cell_type": "code",
   "execution_count": 6,
   "metadata": {},
   "outputs": [],
   "source": [
    "# Chunk 6\n",
    "dataframe_apartamentos = pd.DataFrame(listado_apartamentos, columns=[\"Precio $\", \"Dormitorios\", \"Nombre\", \"Tamaño mt2\", \"Habitaciones\", \"Sanitarios\", \"Parqueos\", \"Zona\", \"Agente\", \"Tipo de Propiedad\", \"URL\"])\n",
    "dataframe_apartamentos.to_csv(\"listado_apartamentos_zona_14.csv\", index=False)"
   ]
  },
  {
   "cell_type": "code",
   "execution_count": 7,
   "metadata": {},
   "outputs": [],
   "source": [
    "# Chunk 6 Limpieza de datos \n",
    "\n"
   ]
  },
  {
   "cell_type": "code",
   "execution_count": 8,
   "metadata": {},
   "outputs": [],
   "source": [
    "# Chunk 5 (original)\n",
    "# apartamentos = soup.find_all(\"div\", class_=\"property_listing property_card_default\")\n",
    "# for apartamento in apartamentos:\n",
    "#     costo = apartamento.find(\"div\", class_=\"listing_unit_price_wrapper\").text.strip().split(\"\\n\")[0] if apartamento.find(\"div\", class_=\"listing_unit_price_wrapper\") else 'Sin Precio'\n",
    "#     nombre = apartamento.find(\"a\").text.strip() if apartamento.find(\"a\") else 'Sin Título'\n",
    "#     superficie = apartamento.find(\"span\", class_=\"infosize\").text.strip().split(\" \")[0] if apartamento.find(\"span\", class_=\"infosize\") else 'Info no disponible'\n",
    "#     sanitarios = apartamento.find(\"span\", class_=\"infobath\").text.strip() if apartamento.find(\"span\", class_=\"infobath\") else 'Info no disponible'\n",
    "#     cuartos = apartamento.find(\"span\", class_=\"inforoom\").text.strip() if apartamento.find(\"span\", class_=\"inforoom\") else 'Info no disponible'\n",
    "#     lugar = \"Zona 14, Guatemala\"\n",
    "#     agente = apartamento.find(\"div\", class_=\"property_agent_wrapper\").find(\"a\").text.strip() if apartamento.find(\"div\", class_=\"property_agent_wrapper\") and apartamento.find(\"div\", class_=\"property_agent_wrapper\").find(\"a\") else 'Sin Agente'\n",
    "#     enlace = apartamento.find(\"a\")[\"href\"] if apartamento.find(\"a\") else 'Sin URL'\n",
    "#     tipo_propiedad = apartamento.find(\"span\", class_=\"property_type\").text.strip() if apartamento.find(\"span\", class_=\"property_type\") else 'Tipo no especificado'\n",
    "#     listado_apartamentos.append([costo, nombre, superficie, sanitarios, cuartos, lugar, agente, tipo_propiedad, enlace])\n"
   ]
  },
  {
   "cell_type": "code",
   "execution_count": 9,
   "metadata": {},
   "outputs": [],
   "source": [
    "# Chunk 6 (original)\n",
    "#dataframe_apartamentos = pd.DataFrame(listado_apartamentos, columns=[\"Costo\", \"Nombre\", \"Superficie\", \"Sanitarios\", \"Cuartos\", \"Lugar\", \"Agente\", \"Tipo de Propiedad\", \"URL\"])\n",
    "#dataframe_apartamentos.to_csv(\"listado_apartamentos_zona_14.csv\", index=False)\n",
    "#print(dataframe_apartamentos.head())\n",
    "\n"
   ]
  },
  {
   "cell_type": "markdown",
   "metadata": {},
   "source": [
    "# PARTE DE LIMPIEZA DE DATOS"
   ]
  },
  {
   "cell_type": "code",
   "execution_count": 10,
   "metadata": {},
   "outputs": [],
   "source": [
    "#chunk 1\n",
    "import pandas as pd\n",
    "import os\n",
    "\n",
    "file_path = \"nuevo_listado_apartamentos_zona_14.csv\"\n",
    "if os.path.exists(file_path):\n",
    "    os.remove(file_path)\n",
    "    "
   ]
  },
  {
   "cell_type": "code",
   "execution_count": 11,
   "metadata": {},
   "outputs": [
    {
     "data": {
      "application/vnd.microsoft.datawrangler.viewer.v0+json": {
       "columns": [
        {
         "name": "index",
         "rawType": "int64",
         "type": "integer"
        },
        {
         "name": "Precio $",
         "rawType": "object",
         "type": "string"
        },
        {
         "name": "Dormitorios",
         "rawType": "int64",
         "type": "integer"
        },
        {
         "name": "Nombre",
         "rawType": "object",
         "type": "string"
        },
        {
         "name": "Tamaño mt2",
         "rawType": "object",
         "type": "string"
        },
        {
         "name": "Habitaciones",
         "rawType": "int64",
         "type": "integer"
        },
        {
         "name": "Sanitarios",
         "rawType": "object",
         "type": "string"
        },
        {
         "name": "Parqueos",
         "rawType": "object",
         "type": "string"
        },
        {
         "name": "Zona",
         "rawType": "object",
         "type": "string"
        },
        {
         "name": "Agente",
         "rawType": "object",
         "type": "string"
        },
        {
         "name": "Tipo de Propiedad",
         "rawType": "object",
         "type": "string"
        },
        {
         "name": "URL",
         "rawType": "object",
         "type": "string"
        }
       ],
       "conversionMethod": "pd.DataFrame",
       "ref": "ec3523f1-375b-48b9-b9a3-417e470b1476",
       "rows": [
        [
         "0",
         "$ 800",
         "1",
         "Zona 14",
         "73",
         "1",
         "1.5",
         "Info no disponible",
         "Zona 14, Guatemala",
         "Inmobiliaria Casa Yune",
         "Tipo no especificado",
         "https://mapainmueble.com/area/zona-14/"
        ],
        [
         "1",
         "$ 875 VER DETALLES",
         "1",
         "Zona 14",
         "72",
         "1",
         "1",
         "Info no disponible",
         "Zona 14, Guatemala",
         "Karla Sánchez",
         "Tipo no especificado",
         "https://mapainmueble.com/area/zona-14/"
        ],
        [
         "2",
         "$ 2,200",
         "2",
         "Zona 14",
         "152",
         "2",
         "2.5",
         "Info no disponible",
         "Zona 14, Guatemala",
         "Market Properties",
         "Tipo no especificado",
         "https://mapainmueble.com/area/zona-14/"
        ],
        [
         "3",
         "$ 2,200 + IVA",
         "2",
         "Zona 14",
         "150",
         "2",
         "2.5",
         "Info no disponible",
         "Zona 14, Guatemala",
         "Market Properties",
         "Tipo no especificado",
         "https://mapainmueble.com/area/zona-14/"
        ],
        [
         "4",
         "$ 3,499",
         "3",
         "Zona 14",
         "252",
         "3",
         "3.5",
         "Info no disponible",
         "Zona 14, Guatemala",
         "Market Properties",
         "Tipo no especificado",
         "https://mapainmueble.com/area/zona-14/"
        ]
       ],
       "shape": {
        "columns": 11,
        "rows": 5
       }
      },
      "text/html": [
       "<div>\n",
       "<style scoped>\n",
       "    .dataframe tbody tr th:only-of-type {\n",
       "        vertical-align: middle;\n",
       "    }\n",
       "\n",
       "    .dataframe tbody tr th {\n",
       "        vertical-align: top;\n",
       "    }\n",
       "\n",
       "    .dataframe thead th {\n",
       "        text-align: right;\n",
       "    }\n",
       "</style>\n",
       "<table border=\"1\" class=\"dataframe\">\n",
       "  <thead>\n",
       "    <tr style=\"text-align: right;\">\n",
       "      <th></th>\n",
       "      <th>Precio $</th>\n",
       "      <th>Dormitorios</th>\n",
       "      <th>Nombre</th>\n",
       "      <th>Tamaño mt2</th>\n",
       "      <th>Habitaciones</th>\n",
       "      <th>Sanitarios</th>\n",
       "      <th>Parqueos</th>\n",
       "      <th>Zona</th>\n",
       "      <th>Agente</th>\n",
       "      <th>Tipo de Propiedad</th>\n",
       "      <th>URL</th>\n",
       "    </tr>\n",
       "  </thead>\n",
       "  <tbody>\n",
       "    <tr>\n",
       "      <th>0</th>\n",
       "      <td>$ 800</td>\n",
       "      <td>1</td>\n",
       "      <td>Zona 14</td>\n",
       "      <td>73</td>\n",
       "      <td>1</td>\n",
       "      <td>1.5</td>\n",
       "      <td>Info no disponible</td>\n",
       "      <td>Zona 14, Guatemala</td>\n",
       "      <td>Inmobiliaria Casa Yune</td>\n",
       "      <td>Tipo no especificado</td>\n",
       "      <td>https://mapainmueble.com/area/zona-14/</td>\n",
       "    </tr>\n",
       "    <tr>\n",
       "      <th>1</th>\n",
       "      <td>$ 875 VER DETALLES</td>\n",
       "      <td>1</td>\n",
       "      <td>Zona 14</td>\n",
       "      <td>72</td>\n",
       "      <td>1</td>\n",
       "      <td>1</td>\n",
       "      <td>Info no disponible</td>\n",
       "      <td>Zona 14, Guatemala</td>\n",
       "      <td>Karla Sánchez</td>\n",
       "      <td>Tipo no especificado</td>\n",
       "      <td>https://mapainmueble.com/area/zona-14/</td>\n",
       "    </tr>\n",
       "    <tr>\n",
       "      <th>2</th>\n",
       "      <td>$ 2,200</td>\n",
       "      <td>2</td>\n",
       "      <td>Zona 14</td>\n",
       "      <td>152</td>\n",
       "      <td>2</td>\n",
       "      <td>2.5</td>\n",
       "      <td>Info no disponible</td>\n",
       "      <td>Zona 14, Guatemala</td>\n",
       "      <td>Market Properties</td>\n",
       "      <td>Tipo no especificado</td>\n",
       "      <td>https://mapainmueble.com/area/zona-14/</td>\n",
       "    </tr>\n",
       "    <tr>\n",
       "      <th>3</th>\n",
       "      <td>$ 2,200 + IVA</td>\n",
       "      <td>2</td>\n",
       "      <td>Zona 14</td>\n",
       "      <td>150</td>\n",
       "      <td>2</td>\n",
       "      <td>2.5</td>\n",
       "      <td>Info no disponible</td>\n",
       "      <td>Zona 14, Guatemala</td>\n",
       "      <td>Market Properties</td>\n",
       "      <td>Tipo no especificado</td>\n",
       "      <td>https://mapainmueble.com/area/zona-14/</td>\n",
       "    </tr>\n",
       "    <tr>\n",
       "      <th>4</th>\n",
       "      <td>$ 3,499</td>\n",
       "      <td>3</td>\n",
       "      <td>Zona 14</td>\n",
       "      <td>252</td>\n",
       "      <td>3</td>\n",
       "      <td>3.5</td>\n",
       "      <td>Info no disponible</td>\n",
       "      <td>Zona 14, Guatemala</td>\n",
       "      <td>Market Properties</td>\n",
       "      <td>Tipo no especificado</td>\n",
       "      <td>https://mapainmueble.com/area/zona-14/</td>\n",
       "    </tr>\n",
       "  </tbody>\n",
       "</table>\n",
       "</div>"
      ],
      "text/plain": [
       "             Precio $  Dormitorios   Nombre Tamaño mt2  Habitaciones  \\\n",
       "0               $ 800            1  Zona 14         73             1   \n",
       "1  $ 875 VER DETALLES            1  Zona 14         72             1   \n",
       "2             $ 2,200            2  Zona 14        152             2   \n",
       "3       $ 2,200 + IVA            2  Zona 14        150             2   \n",
       "4             $ 3,499            3  Zona 14        252             3   \n",
       "\n",
       "  Sanitarios            Parqueos                Zona                  Agente  \\\n",
       "0        1.5  Info no disponible  Zona 14, Guatemala  Inmobiliaria Casa Yune   \n",
       "1          1  Info no disponible  Zona 14, Guatemala           Karla Sánchez   \n",
       "2        2.5  Info no disponible  Zona 14, Guatemala       Market Properties   \n",
       "3        2.5  Info no disponible  Zona 14, Guatemala       Market Properties   \n",
       "4        3.5  Info no disponible  Zona 14, Guatemala       Market Properties   \n",
       "\n",
       "      Tipo de Propiedad                                     URL  \n",
       "0  Tipo no especificado  https://mapainmueble.com/area/zona-14/  \n",
       "1  Tipo no especificado  https://mapainmueble.com/area/zona-14/  \n",
       "2  Tipo no especificado  https://mapainmueble.com/area/zona-14/  \n",
       "3  Tipo no especificado  https://mapainmueble.com/area/zona-14/  \n",
       "4  Tipo no especificado  https://mapainmueble.com/area/zona-14/  "
      ]
     },
     "execution_count": 11,
     "metadata": {},
     "output_type": "execute_result"
    }
   ],
   "source": [
    "#chunk 2\n",
    "\n",
    "df = pd.read_csv('listado_apartamentos_zona_14.csv')\n",
    "df.head()"
   ]
  },
  {
   "cell_type": "code",
   "execution_count": 12,
   "metadata": {},
   "outputs": [
    {
     "data": {
      "application/vnd.microsoft.datawrangler.viewer.v0+json": {
       "columns": [
        {
         "name": "index",
         "rawType": "int64",
         "type": "integer"
        },
        {
         "name": "Precio $",
         "rawType": "object",
         "type": "string"
        },
        {
         "name": "Dormitorios",
         "rawType": "int64",
         "type": "integer"
        },
        {
         "name": "Tamaño mt2",
         "rawType": "object",
         "type": "string"
        },
        {
         "name": "Habitaciones",
         "rawType": "int64",
         "type": "integer"
        },
        {
         "name": "Sanitarios",
         "rawType": "object",
         "type": "string"
        }
       ],
       "conversionMethod": "pd.DataFrame",
       "ref": "0fb9d6eb-4d2c-4195-97ca-bd2e90683005",
       "rows": [
        [
         "0",
         "$ 800",
         "1",
         "73",
         "1",
         "1.5"
        ],
        [
         "1",
         "$ 875 VER DETALLES",
         "1",
         "72",
         "1",
         "1"
        ],
        [
         "2",
         "$ 2,200",
         "2",
         "152",
         "2",
         "2.5"
        ],
        [
         "3",
         "$ 2,200 + IVA",
         "2",
         "150",
         "2",
         "2.5"
        ],
        [
         "4",
         "$ 3,499",
         "3",
         "252",
         "3",
         "3.5"
        ]
       ],
       "shape": {
        "columns": 5,
        "rows": 5
       }
      },
      "text/html": [
       "<div>\n",
       "<style scoped>\n",
       "    .dataframe tbody tr th:only-of-type {\n",
       "        vertical-align: middle;\n",
       "    }\n",
       "\n",
       "    .dataframe tbody tr th {\n",
       "        vertical-align: top;\n",
       "    }\n",
       "\n",
       "    .dataframe thead th {\n",
       "        text-align: right;\n",
       "    }\n",
       "</style>\n",
       "<table border=\"1\" class=\"dataframe\">\n",
       "  <thead>\n",
       "    <tr style=\"text-align: right;\">\n",
       "      <th></th>\n",
       "      <th>Precio $</th>\n",
       "      <th>Dormitorios</th>\n",
       "      <th>Tamaño mt2</th>\n",
       "      <th>Habitaciones</th>\n",
       "      <th>Sanitarios</th>\n",
       "    </tr>\n",
       "  </thead>\n",
       "  <tbody>\n",
       "    <tr>\n",
       "      <th>0</th>\n",
       "      <td>$ 800</td>\n",
       "      <td>1</td>\n",
       "      <td>73</td>\n",
       "      <td>1</td>\n",
       "      <td>1.5</td>\n",
       "    </tr>\n",
       "    <tr>\n",
       "      <th>1</th>\n",
       "      <td>$ 875 VER DETALLES</td>\n",
       "      <td>1</td>\n",
       "      <td>72</td>\n",
       "      <td>1</td>\n",
       "      <td>1</td>\n",
       "    </tr>\n",
       "    <tr>\n",
       "      <th>2</th>\n",
       "      <td>$ 2,200</td>\n",
       "      <td>2</td>\n",
       "      <td>152</td>\n",
       "      <td>2</td>\n",
       "      <td>2.5</td>\n",
       "    </tr>\n",
       "    <tr>\n",
       "      <th>3</th>\n",
       "      <td>$ 2,200 + IVA</td>\n",
       "      <td>2</td>\n",
       "      <td>150</td>\n",
       "      <td>2</td>\n",
       "      <td>2.5</td>\n",
       "    </tr>\n",
       "    <tr>\n",
       "      <th>4</th>\n",
       "      <td>$ 3,499</td>\n",
       "      <td>3</td>\n",
       "      <td>252</td>\n",
       "      <td>3</td>\n",
       "      <td>3.5</td>\n",
       "    </tr>\n",
       "  </tbody>\n",
       "</table>\n",
       "</div>"
      ],
      "text/plain": [
       "             Precio $  Dormitorios Tamaño mt2  Habitaciones Sanitarios\n",
       "0               $ 800            1         73             1        1.5\n",
       "1  $ 875 VER DETALLES            1         72             1          1\n",
       "2             $ 2,200            2        152             2        2.5\n",
       "3       $ 2,200 + IVA            2        150             2        2.5\n",
       "4             $ 3,499            3        252             3        3.5"
      ]
     },
     "execution_count": 12,
     "metadata": {},
     "output_type": "execute_result"
    }
   ],
   "source": [
    "# chunk 3\n",
    "df.drop(['Nombre','Parqueos', 'Zona', 'Agente', 'Tipo de Propiedad', 'URL'], axis=1, inplace=True)\n",
    "df.head()"
   ]
  },
  {
   "cell_type": "code",
   "execution_count": 13,
   "metadata": {},
   "outputs": [
    {
     "name": "stderr",
     "output_type": "stream",
     "text": [
      "C:\\Users\\luisp\\AppData\\Local\\Temp\\ipykernel_14500\\3773187269.py:6: UserWarning: This pattern is interpreted as a regular expression, and has match groups. To actually get the groups, use str.extract.\n",
      "  df = df[df['Precio $'].str.contains(r'^\\$\\s*\\d+([\\.,]\\d+)?$', regex=True)]\n"
     ]
    },
    {
     "data": {
      "application/vnd.microsoft.datawrangler.viewer.v0+json": {
       "columns": [
        {
         "name": "index",
         "rawType": "int64",
         "type": "integer"
        },
        {
         "name": "Precio $",
         "rawType": "object",
         "type": "string"
        },
        {
         "name": "Dormitorios",
         "rawType": "int64",
         "type": "integer"
        },
        {
         "name": "Tamaño mt2",
         "rawType": "object",
         "type": "string"
        },
        {
         "name": "Habitaciones",
         "rawType": "int64",
         "type": "integer"
        },
        {
         "name": "Sanitarios",
         "rawType": "object",
         "type": "string"
        }
       ],
       "conversionMethod": "pd.DataFrame",
       "ref": "6c66e000-c556-4e41-ae15-5018b024af7b",
       "rows": [
        [
         "0",
         "800",
         "1",
         "73",
         "1",
         "1.5"
        ],
        [
         "2",
         "2,200",
         "2",
         "152",
         "2",
         "2.5"
        ],
        [
         "4",
         "3,499",
         "3",
         "252",
         "3",
         "3.5"
        ],
        [
         "6",
         "790",
         "1",
         "Info no disponible",
         "1",
         "1"
        ],
        [
         "8",
         "2,200",
         "3",
         "175",
         "3",
         "3"
        ]
       ],
       "shape": {
        "columns": 5,
        "rows": 5
       }
      },
      "text/html": [
       "<div>\n",
       "<style scoped>\n",
       "    .dataframe tbody tr th:only-of-type {\n",
       "        vertical-align: middle;\n",
       "    }\n",
       "\n",
       "    .dataframe tbody tr th {\n",
       "        vertical-align: top;\n",
       "    }\n",
       "\n",
       "    .dataframe thead th {\n",
       "        text-align: right;\n",
       "    }\n",
       "</style>\n",
       "<table border=\"1\" class=\"dataframe\">\n",
       "  <thead>\n",
       "    <tr style=\"text-align: right;\">\n",
       "      <th></th>\n",
       "      <th>Precio $</th>\n",
       "      <th>Dormitorios</th>\n",
       "      <th>Tamaño mt2</th>\n",
       "      <th>Habitaciones</th>\n",
       "      <th>Sanitarios</th>\n",
       "    </tr>\n",
       "  </thead>\n",
       "  <tbody>\n",
       "    <tr>\n",
       "      <th>0</th>\n",
       "      <td>800</td>\n",
       "      <td>1</td>\n",
       "      <td>73</td>\n",
       "      <td>1</td>\n",
       "      <td>1.5</td>\n",
       "    </tr>\n",
       "    <tr>\n",
       "      <th>2</th>\n",
       "      <td>2,200</td>\n",
       "      <td>2</td>\n",
       "      <td>152</td>\n",
       "      <td>2</td>\n",
       "      <td>2.5</td>\n",
       "    </tr>\n",
       "    <tr>\n",
       "      <th>4</th>\n",
       "      <td>3,499</td>\n",
       "      <td>3</td>\n",
       "      <td>252</td>\n",
       "      <td>3</td>\n",
       "      <td>3.5</td>\n",
       "    </tr>\n",
       "    <tr>\n",
       "      <th>6</th>\n",
       "      <td>790</td>\n",
       "      <td>1</td>\n",
       "      <td>Info no disponible</td>\n",
       "      <td>1</td>\n",
       "      <td>1</td>\n",
       "    </tr>\n",
       "    <tr>\n",
       "      <th>8</th>\n",
       "      <td>2,200</td>\n",
       "      <td>3</td>\n",
       "      <td>175</td>\n",
       "      <td>3</td>\n",
       "      <td>3</td>\n",
       "    </tr>\n",
       "  </tbody>\n",
       "</table>\n",
       "</div>"
      ],
      "text/plain": [
       "  Precio $  Dormitorios          Tamaño mt2  Habitaciones Sanitarios\n",
       "0      800            1                  73             1        1.5\n",
       "2    2,200            2                 152             2        2.5\n",
       "4    3,499            3                 252             3        3.5\n",
       "6      790            1  Info no disponible             1          1\n",
       "8    2,200            3                 175             3          3"
      ]
     },
     "execution_count": 13,
     "metadata": {},
     "output_type": "execute_result"
    }
   ],
   "source": [
    "#chunk 4\n",
    "\n",
    "df['Precio $'] = df['Precio $'].astype(str)\n",
    "\n",
    "# Filtra las filas para mantener solo formatos de precio válidos\n",
    "df = df[df['Precio $'].str.contains(r'^\\$\\s*\\d+([\\.,]\\d+)?$', regex=True)]\n",
    "\n",
    "# Remueve el signo de dólar y espacios extras alrededor de los números\n",
    "df['Precio $'] = df['Precio $'].str.replace(r'^\\$\\s*', '', regex=True)\n",
    "\n",
    "# Muestra las primeras filas del dataframe resultante\n",
    "df.head()\n",
    "\n"
   ]
  },
  {
   "cell_type": "code",
   "execution_count": 14,
   "metadata": {},
   "outputs": [
    {
     "data": {
      "application/vnd.microsoft.datawrangler.viewer.v0+json": {
       "columns": [
        {
         "name": "index",
         "rawType": "int64",
         "type": "integer"
        },
        {
         "name": "Precio $",
         "rawType": "object",
         "type": "string"
        },
        {
         "name": "Dormitorios",
         "rawType": "int64",
         "type": "integer"
        },
        {
         "name": "Tamaño mt2",
         "rawType": "int64",
         "type": "integer"
        },
        {
         "name": "Habitaciones",
         "rawType": "int64",
         "type": "integer"
        },
        {
         "name": "Sanitarios",
         "rawType": "float64",
         "type": "float"
        }
       ],
       "conversionMethod": "pd.DataFrame",
       "ref": "6146009a-ca6b-416b-93c2-0f282a02883c",
       "rows": [
        [
         "0",
         "800",
         "1",
         "73",
         "1",
         "1.5"
        ],
        [
         "2",
         "2,200",
         "2",
         "152",
         "2",
         "2.5"
        ],
        [
         "4",
         "3,499",
         "3",
         "252",
         "3",
         "3.5"
        ],
        [
         "8",
         "2,200",
         "3",
         "175",
         "3",
         "3.0"
        ],
        [
         "9",
         "800",
         "1",
         "73",
         "1",
         "1.5"
        ]
       ],
       "shape": {
        "columns": 5,
        "rows": 5
       }
      },
      "text/html": [
       "<div>\n",
       "<style scoped>\n",
       "    .dataframe tbody tr th:only-of-type {\n",
       "        vertical-align: middle;\n",
       "    }\n",
       "\n",
       "    .dataframe tbody tr th {\n",
       "        vertical-align: top;\n",
       "    }\n",
       "\n",
       "    .dataframe thead th {\n",
       "        text-align: right;\n",
       "    }\n",
       "</style>\n",
       "<table border=\"1\" class=\"dataframe\">\n",
       "  <thead>\n",
       "    <tr style=\"text-align: right;\">\n",
       "      <th></th>\n",
       "      <th>Precio $</th>\n",
       "      <th>Dormitorios</th>\n",
       "      <th>Tamaño mt2</th>\n",
       "      <th>Habitaciones</th>\n",
       "      <th>Sanitarios</th>\n",
       "    </tr>\n",
       "  </thead>\n",
       "  <tbody>\n",
       "    <tr>\n",
       "      <th>0</th>\n",
       "      <td>800</td>\n",
       "      <td>1</td>\n",
       "      <td>73</td>\n",
       "      <td>1</td>\n",
       "      <td>1.5</td>\n",
       "    </tr>\n",
       "    <tr>\n",
       "      <th>2</th>\n",
       "      <td>2,200</td>\n",
       "      <td>2</td>\n",
       "      <td>152</td>\n",
       "      <td>2</td>\n",
       "      <td>2.5</td>\n",
       "    </tr>\n",
       "    <tr>\n",
       "      <th>4</th>\n",
       "      <td>3,499</td>\n",
       "      <td>3</td>\n",
       "      <td>252</td>\n",
       "      <td>3</td>\n",
       "      <td>3.5</td>\n",
       "    </tr>\n",
       "    <tr>\n",
       "      <th>8</th>\n",
       "      <td>2,200</td>\n",
       "      <td>3</td>\n",
       "      <td>175</td>\n",
       "      <td>3</td>\n",
       "      <td>3.0</td>\n",
       "    </tr>\n",
       "    <tr>\n",
       "      <th>9</th>\n",
       "      <td>800</td>\n",
       "      <td>1</td>\n",
       "      <td>73</td>\n",
       "      <td>1</td>\n",
       "      <td>1.5</td>\n",
       "    </tr>\n",
       "  </tbody>\n",
       "</table>\n",
       "</div>"
      ],
      "text/plain": [
       "  Precio $  Dormitorios  Tamaño mt2  Habitaciones  Sanitarios\n",
       "0      800            1          73             1         1.5\n",
       "2    2,200            2         152             2         2.5\n",
       "4    3,499            3         252             3         3.5\n",
       "8    2,200            3         175             3         3.0\n",
       "9      800            1          73             1         1.5"
      ]
     },
     "execution_count": 14,
     "metadata": {},
     "output_type": "execute_result"
    }
   ],
   "source": [
    "# Chunk 5\n",
    "df = df[df['Tamaño mt2'] != 'Info no disponible']\n",
    "df = df[df['Sanitarios'] != 'Info no disponible']\n",
    "\n",
    "df['Tamaño mt2'] = pd.to_numeric(df['Tamaño mt2'], errors='coerce')\n",
    "df['Sanitarios'] = pd.to_numeric(df['Sanitarios'], errors='coerce')\n",
    "df.head()"
   ]
  },
  {
   "cell_type": "code",
   "execution_count": 15,
   "metadata": {},
   "outputs": [],
   "source": [
    "# Chunk 6\n",
    "df.dropna(subset=['Precio $', 'Dormitorios','Tamaño mt2', 'Sanitarios'], inplace=True)\n",
    "\n",
    "df.head()\n",
    "\n",
    "# Guardar el dataframe limpio\n",
    "df.to_csv('nuevo_listado_apartamentos_zona_14.csv', index=False)\n"
   ]
  },
  {
   "cell_type": "markdown",
   "metadata": {},
   "source": [
    "# Regresión Lineal"
   ]
  },
  {
   "cell_type": "code",
   "execution_count": 16,
   "metadata": {},
   "outputs": [],
   "source": [
    "#chunk 1\n",
    "import numpy as np\n",
    "import pandas as pd\n",
    "import matplotlib.pyplot as plt\n",
    "import seaborn as sns\n",
    "\n",
    "from sklearn.linear_model import LinearRegression\n",
    "from sklearn.metrics import mean_squared_error, r2_score\n"
   ]
  },
  {
   "cell_type": "code",
   "execution_count": 17,
   "metadata": {},
   "outputs": [],
   "source": [
    "# Chunk 2\n",
    "\n",
    "file_path = \"nuevo_listado_apartamentos_zona_14.csv\"\n",
    "df = pd.read_csv(file_path)\n",
    "df['Precio $'] = df['Precio $'].replace(',', '', regex=True).astype(float)  \n",
    "\n",
    "df = df.dropna(subset=[\"Precio $\",\"Dormitorios\", \"Habitaciones\", \"Sanitarios\", \"Tamaño mt2\"])\n"
   ]
  },
  {
   "cell_type": "code",
   "execution_count": 18,
   "metadata": {},
   "outputs": [],
   "source": [
    "# Chunk 3 \n",
    "\n",
    "def regresion_lineal_sklearn(X, y, x_label):\n",
    "    modelo = LinearRegression()\n",
    "    modelo.fit(X, y)\n",
    "    y_pred = modelo.predict(X)\n",
    "    print(f\"\\nRegresión Lineal: {x_label} vs Precio\")\n",
    "    print(f\"Coeficiente: {modelo.coef_[0]}\")\n",
    "    print(f\"Intercepto: {modelo.intercept_}\")\n",
    "    print(f\"R^2: {r2_score(y, y_pred)}\")\n",
    "    print(f\"Error cuadrático medio: {mean_squared_error(y, y_pred)}\")\n",
    "    \n",
    "    # Gráfico de regresión\n",
    "    plt.figure(figsize=(6,4))\n",
    "    sns.scatterplot(x=X.flatten(), y=y, alpha=0.5, label=\"Datos reales\")\n",
    "    plt.plot(X.flatten(), y_pred, color='red', label=\"Línea de regresión\")\n",
    "    plt.xlabel(x_label)\n",
    "    plt.ylabel(\"Precio $\")\n",
    "    plt.title(f\"Regresión Lineal: {x_label} vs Precio\")\n",
    "    plt.legend()\n",
    "    plt.show()\n"
   ]
  },
  {
   "cell_type": "code",
   "execution_count": 19,
   "metadata": {},
   "outputs": [
    {
     "name": "stdout",
     "output_type": "stream",
     "text": [
      "\n",
      "Regresión Lineal: Habitaciones vs Precio\n",
      "Coeficiente: 635.2374292374293\n",
      "Intercepto: 411.26107226107206\n",
      "R^2: 0.2846732713121215\n",
      "Error cuadrático medio: 674789.0667507931\n"
     ]
    },
    {
     "data": {
      "image/png": "[encoded data removed]",
      "text/plain": [
       "<Figure size 600x400 with 1 Axes>"
      ]
     },
     "metadata": {},
     "output_type": "display_data"
    },
    {
     "name": "stdout",
     "output_type": "stream",
     "text": [
      "\n",
      "Regresión Lineal: Sanitarios vs Precio\n",
      "Coeficiente: 931.8942001274696\n",
      "Intercepto: -252.07584448693433\n",
      "R^2: 0.5601616990539207\n",
      "Error cuadrático medio: 414912.6052665124\n"
     ]
    },
    {
     "data": {
      "image/png": "[encoded data removed]",
      "text/plain": [
       "<Figure size 600x400 with 1 Axes>"
      ]
     },
     "metadata": {},
     "output_type": "display_data"
    },
    {
     "name": "stdout",
     "output_type": "stream",
     "text": [
      "\n",
      "Regresión Lineal: Tamaño mt2 vs Precio\n",
      "Coeficiente: 8.338344612864026\n",
      "Intercepto: 453.3112382275758\n",
      "R^2: 0.8115772978790997\n",
      "Error cuadrático medio: 177744.76224598472\n"
     ]
    },
    {
     "data": {
      "image/png": "[encoded data removed]",
      "text/plain": [
       "<Figure size 600x400 with 1 Axes>"
      ]
     },
     "metadata": {},
     "output_type": "display_data"
    },
    {
     "name": "stdout",
     "output_type": "stream",
     "text": [
      "\n",
      "Regresión Lineal: Dormitorios vs Precio\n",
      "Coeficiente: 635.2374292374293\n",
      "Intercepto: 411.26107226107206\n",
      "R^2: 0.2846732713121215\n",
      "Error cuadrático medio: 674789.0667507931\n"
     ]
    },
    {
     "data": {
      "image/png": "[encoded data removed]",
      "text/plain": [
       "<Figure size 600x400 with 1 Axes>"
      ]
     },
     "metadata": {},
     "output_type": "display_data"
    }
   ],
   "source": [
    "#Chunk 4\n",
    "X_habitaciones = np.array(df['Habitaciones']).reshape(-1, 1)\n",
    "X_sanitarios = np.array(df['Sanitarios']).reshape(-1, 1)\n",
    "X_tamaño = np.array(df['Tamaño mt2']).reshape(-1, 1)\n",
    "X_Dormitorios = np.array(df['Dormitorios']).reshape(-1, 1)\n",
    "\n",
    "\n",
    "y = df['Precio $']\n",
    "\n",
    "\n",
    "regresion_lineal_sklearn(X_habitaciones, y, \"Habitaciones\")\n",
    "regresion_lineal_sklearn(X_sanitarios, y, \"Sanitarios\")\n",
    "regresion_lineal_sklearn(X_tamaño, y, \"Tamaño mt2\")\n",
    "regresion_lineal_sklearn(X_Dormitorios, y, \"Dormitorios\")\n",
    "\n"
   ]
  },
  {
   "cell_type": "markdown",
   "metadata": {},
   "source": [
    "# CONCLUSIONES"
   ]
  },
  {
   "cell_type": "markdown",
   "metadata": {},
   "source": [
    "### **Coeficiente:** *Este valor indica cuánto cambia el precio (variable dependiente) en promedio por cada unidad que cambia la variable independiente. Por ejemplo, en el modelo de \"Tamaño mt2\", un coeficiente de 8.34 significa que por cada metro cuadrado adicional, el precio aumenta, en promedio, 8.34 dólares.*\n",
    "\n",
    "### **Intercepto:** *Es el valor esperado del precio cuando todas las variables independientes son cero. En contextos reales, esto puede no tener sentido práctico, pero matemáticamente, define dónde la línea de regresión cruza el eje y. Por ejemplo, un intercepto de 453.31 en el modelo de \"Tamaño mt2\" indica el precio base cuando el tamaño es cero.*\n",
    "\n",
    "### **R² (Coeficiente de determinación):** *Este valor mide la proporción de la variabilidad en la variable dependiente que es predecible a partir de las variables independientes. Un R² de 0.812 en el modelo de \"Tamaño mt2\" implica que aproximadamente el 81.2% de la variabilidad en el precio puede ser explicada por el tamaño del apartamento. Cuanto más cercano a 1, mejor es el modelo en términos de explicación de la variabilidad.*\n",
    "\n",
    "### **Error cuadrático medio:** *Es un promedio de los cuadrados de los errores, las diferencias cuadradas entre los valores observados y los valores predichos. Proporciona una idea de cuán bien el modelo se ajusta a los datos; a menor ECM, mejor ajuste. Por ejemplo, el modelo de \"Tamaño mt2\" tiene un ECM de 177,744.76, indicando que en promedio, la predicción del modelo se desvía del valor real por una cantidad correspondiente a la raíz cuadrada de este valor.*\n",
    "\n"
   ]
  },
  {
   "cell_type": "markdown",
   "metadata": {},
   "source": [
    "# **Conclusiones Generales:** \n",
    "\n",
    "### *El modelo de \"Tamaño mt2\" presenta el mejor R² (0.812), lo que indica que es el más eficaz para predecir el precio basado en los datos proporcionados. Un alto R² como este sugiere que el modelo ajusta muy bien a los datos en comparación con los otros modelos evaluados.*\n",
    "\n",
    "### *La variable \"Tamaño mt2\" es un predictor mucho más fuerte del precio que \"Dormitorios\", \"Habitaciones\" y \"Sanitarios\". Esto es evidente no solo por el R², sino también por el ECM más bajo, indicando que las predicciones son más precisas y consistentes.*\n",
    "\n",
    "### *Aunque las variables \"Dormitorios\" y \"Habitaciones\" tienen el mismo coeficiente y estadísticas (lo que puede indicar una duplicación de datos o multicolinealidad), su bajo R² implica que no son tan efectivas para predecir el precio de forma aislada como el \"Tamaño mt2\".*"
   ]
  },
  {
   "cell_type": "markdown",
   "metadata": {},
   "source": []
  }
 ],
 "metadata": {
  "kernelspec": {
   "display_name": "Python 3",
   "language": "python",
   "name": "python3"
  },
  "language_info": {
   "codemirror_mode": {
    "name": "ipython",
    "version": 3
   },
   "file_extension": ".py",
   "mimetype": "text/x-python",
   "name": "python",
   "nbconvert_exporter": "python",
   "pygments_lexer": "ipython3",
   "version": "3.12.4"
  }
 },
 "nbformat": 4,
 "nbformat_minor": 2
}
